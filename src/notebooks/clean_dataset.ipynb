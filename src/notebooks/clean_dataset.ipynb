{
 "cells": [
  {
   "cell_type": "code",
   "execution_count": 1,
   "outputs": [],
   "source": [
    "import warnings\n",
    "warnings.filterwarnings('ignore')\n",
    "from collections import defaultdict\n",
    "from pathlib import Path\n",
    "import os\n",
    "import pdb\n",
    "import numpy as np\n",
    "from PIL import Image\n",
    "import torch\n",
    "import matplotlib.pyplot as plt\n",
    "from scipy import ndimage\n",
    "import cv2\n",
    "import random\n",
    "from glob import glob\n",
    "from tqdm import tqdm\n",
    "from docai_util import is_color_image, binarize\n",
    "from table_datasets import read_pascal_voc\n",
    "from src.main import get_class_map\n",
    "from docai_util import bboxes_to_cells\n",
    "from collections import defaultdict\n",
    "\n",
    "class_map = get_class_map('structure')\n",
    "index_to_class_map = {val: key for key, val in class_map.items()}\n",
    "\n",
    "color_map = {\n",
    "    'table': (0, 0, 0),\n",
    "    'table column': (255, 0, 0),\n",
    "    'table row': (0, 255, 0),\n",
    "    'table column header': (0, 0, 255),\n",
    "    'table projected row header': (255, 255, 0),\n",
    "    'table spanning cell': (255, 0, 255)\n",
    "}"
   ],
   "metadata": {
    "collapsed": false,
    "ExecuteTime": {
     "end_time": "2023-11-08T10:07:55.485084Z",
     "start_time": "2023-11-08T10:07:50.585062Z"
    }
   },
   "id": "61bacd796b19395"
  },
  {
   "cell_type": "code",
   "execution_count": null,
   "outputs": [],
   "source": [
    "def row_line_exists(image: np.ndarray, line_rate_threshold=0.8):\n",
    "    assert image.dtype == np.uint8 or image.max() > 2\n",
    "\n",
    "    bin_image = binarize(image)\n",
    "    h, w = bin_image.shape\n",
    "\n",
    "    # check line if exists\n",
    "    row_sum = bin_image.sum(axis=1)\n",
    "    row_lines = (row_sum >= int(w * line_rate_threshold)).astype(np.uint8)\n",
    "    return np.any(row_lines)"
   ],
   "metadata": {
    "collapsed": false
   },
   "id": "initial_id"
  },
  {
   "cell_type": "code",
   "execution_count": null,
   "outputs": [],
   "source": [
    "image_root = '/home/suqi/dataset/pubtables-1m/PubTables-1M-Structure/images'\n",
    "\n",
    "# color_filtered = []\n",
    "# line_filtered = []\n",
    "# filtered = {}\n",
    "# \n",
    "# for image_name in tqdm(sorted(os.listdir(image_root))[:10]):\n",
    "#     image = np.array(Image.open(os.path.join(image_root, image_name)).convert('RGB'))\n",
    "#     if is_color_image(image):\n",
    "#         color_filtered.append(image)\n",
    "#         print(f'Color image found: {image_name}')\n",
    "#     if not row_line_exists(image):\n",
    "#         line_filtered.append(image)\n",
    "#         print(f'No line image found: {image_name}')\n",
    "# \n",
    "# filtered['color'] = color_filtered\n",
    "# filtered['line'] = line_filtered\n",
    "# torch.save(filtered, '../statistics/filtered.pth')"
   ],
   "metadata": {
    "collapsed": false
   },
   "id": "46cf5c81a123bbe9"
  },
  {
   "cell_type": "code",
   "execution_count": 2,
   "outputs": [],
   "source": [
    "union = torch.load('../statistics/filtered.pth')"
   ],
   "metadata": {
    "collapsed": false,
    "ExecuteTime": {
     "end_time": "2023-11-08T10:08:09.257993Z",
     "start_time": "2023-11-08T10:08:09.173421Z"
    }
   },
   "id": "52c6b35f99bc934f"
  },
  {
   "cell_type": "code",
   "execution_count": 3,
   "outputs": [
    {
     "name": "stdout",
     "output_type": "stream",
     "text": [
      "101511\n",
      "113311\n"
     ]
    }
   ],
   "source": [
    "print(len(union['color']))      # 101511\n",
    "print(len(union['line']))       # 113311"
   ],
   "metadata": {
    "collapsed": false,
    "ExecuteTime": {
     "end_time": "2023-11-08T10:08:09.495260Z",
     "start_time": "2023-11-08T10:08:09.482248Z"
    }
   },
   "id": "14d268f308c7ac8c"
  },
  {
   "cell_type": "code",
   "execution_count": null,
   "outputs": [],
   "source": [
    "losses = torch.load('../statistics/losses_mini.pth')"
   ],
   "metadata": {
    "collapsed": false
   },
   "id": "88f2e275539126e"
  },
  {
   "cell_type": "code",
   "execution_count": null,
   "outputs": [],
   "source": [
    "image_names, bbox_losses, giou_losses = [], [], []\n",
    "for key, val in losses.items():\n",
    "    image_names.append(key)\n",
    "    bbox_losses.append(val['loss_bbox'])\n",
    "    giou_losses.append(val['loss_giou'])\n",
    "\n",
    "image_names, bbox_losses, giou_losses = map(np.array, (image_names, bbox_losses, giou_losses))\n",
    "losses = bbox_losses + giou_losses\n",
    "indices = np.argsort(losses)\n",
    "sorted_image_names, sorted_losses = image_names[indices], losses[indices]"
   ],
   "metadata": {
    "collapsed": false
   },
   "id": "3b35215f2c2158f"
  },
  {
   "cell_type": "code",
   "execution_count": null,
   "outputs": [],
   "source": [
    "plt.hist(sorted_losses, bins=np.linspace(0, 0.475, 100))\n",
    "plt.title('losses')\n",
    "plt.show()\n",
    "\n",
    "plt.hist(sorted_losses[:-80000], bins=np.linspace(0, 0.475, 100))\n",
    "plt.title('losses')\n",
    "plt.show()\n"
   ],
   "metadata": {
    "collapsed": false
   },
   "id": "e80d80931b174f79"
  },
  {
   "cell_type": "code",
   "execution_count": null,
   "outputs": [],
   "source": [
    "del_images = sorted_image_names[-80000:]\n",
    "del_images_filtered = []\n",
    "for del_name in del_images:\n",
    "    if '_COL_' in del_name or '_CELL_' in del_name:\n",
    "        continue\n",
    "    del_images_filtered.append(del_name)\n",
    "\n",
    "print(len(del_images_filtered))     # 35769\n",
    "print(len(union['color']))          # 101511\n",
    "print(len(union['line']))           # 113311\n",
    "\n",
    "print(len(set(del_images_filtered) & set(union['color'])))\n",
    "print(len(set(del_images_filtered) & set(union['line'])))\n",
    "\n",
    "image_names_set = set(image_names)\n",
    "image_names_list = list(image_names)\n",
    "\n",
    "color_image_indices, line_image_indices = [], []\n",
    "for image_name in tqdm(union['color']):\n",
    "    if image_name in image_names_set:\n",
    "        color_image_indices.append(image_names_list.index(image_name))\n",
    "        \n",
    "for image_name in tqdm(union['line']):\n",
    "    if image_name in image_names_set:\n",
    "        line_image_indices.append(image_names_list.index(image_name))\n"
   ],
   "metadata": {
    "collapsed": false
   },
   "id": "c69d767aa1edd616"
  },
  {
   "cell_type": "code",
   "execution_count": null,
   "outputs": [],
   "source": [
    "color_image_indices = np.array(color_image_indices)\n",
    "line_image_indices = np.array(line_image_indices)\n",
    "color_image_losses = losses[color_image_indices]\n",
    "line_image_losses = losses[line_image_indices]\n",
    "\n",
    "color_image_indices = color_image_indices[color_image_losses.argsort()[-10000: ]]\n",
    "line_image_indices = line_image_indices[line_image_losses.argsort()[-10000: ]]\n",
    "\n",
    "del_images_color = image_names[color_image_indices]\n",
    "del_images_line = image_names[line_image_indices]\n",
    "\n",
    "print(len(del_images_filtered)) # 35769\n",
    "print(len(del_images_color))    # 10000\n",
    "print(len(del_images_line))     # 10000\n",
    "\n",
    "del_images_union = set(del_images_filtered) | set(del_images_color) | set(del_images_line)\n",
    "print(len(del_images_union))    # 45535\n",
    "with open(os.path.join('../statistics/filtered_images.txt'), 'w') as f:\n",
    "    for name in del_images_union:\n",
    "        f.write(f'{name}\\n')"
   ],
   "metadata": {
    "collapsed": false
   },
   "id": "74eb036a77b205f3"
  },
  {
   "cell_type": "markdown",
   "source": [
    "## 删除数据集中的需要过滤掉的数据"
   ],
   "metadata": {
    "collapsed": false
   },
   "id": "5f73e7aacca9bf31"
  },
  {
   "cell_type": "code",
   "execution_count": 7,
   "outputs": [
    {
     "name": "stderr",
     "output_type": "stream",
     "text": [
      "100%|██████████| 947642/947642 [00:16<00:00, 56489.80it/s]\n"
     ]
    },
    {
     "name": "stdout",
     "output_type": "stream",
     "text": [
      "45535\n"
     ]
    },
    {
     "name": "stderr",
     "output_type": "stream",
     "text": [
      "100%|██████████| 758849/758849 [00:14<00:00, 53271.71it/s]\n"
     ]
    },
    {
     "name": "stdout",
     "output_type": "stream",
     "text": [
      "40341\n"
     ]
    },
    {
     "name": "stderr",
     "output_type": "stream",
     "text": [
      "100%|██████████| 94959/94959 [00:04<00:00, 18999.63it/s]\n"
     ]
    },
    {
     "name": "stdout",
     "output_type": "stream",
     "text": [
      "5194\n"
     ]
    },
    {
     "name": "stderr",
     "output_type": "stream",
     "text": [
      "100%|██████████| 93834/93834 [00:01<00:00, 54558.96it/s]"
     ]
    },
    {
     "name": "stdout",
     "output_type": "stream",
     "text": [
      "0\n"
     ]
    },
    {
     "name": "stderr",
     "output_type": "stream",
     "text": [
      "\n"
     ]
    }
   ],
   "source": [
    "data_root = '/home/suqi/dataset/pubtables-1m/PubTables-1M-Structure'\n",
    "target_root = '/home/suqi/dataset/pubtables-1m/PubTables-1M-Structure-Clean'\n",
    "os.makedirs(target_root, exist_ok=True)\n",
    "\n",
    "with open(os.path.join('../statistics/filtered_images.txt'), 'r') as f:\n",
    "    del_images_union = set([line.strip() for line in f.readlines()])\n",
    "\n",
    "for dir_name in ['images', 'train', 'val', 'test']:\n",
    "    dir_path = os.path.join(data_root, dir_name)\n",
    "    os.makedirs(os.path.join(target_root, dir_name), exist_ok=True)\n",
    "    del_count = 0\n",
    "    for name in tqdm(os.listdir(dir_path)):\n",
    "        if '_COL_' in name:\n",
    "            base_name = name.split('_COL_')[0]\n",
    "        elif '_CELL_' in name:\n",
    "            base_name = name.split('_CELL_')[0]\n",
    "        else:\n",
    "            base_name = name.split('.')[0]\n",
    "\n",
    "        if (base_name + '.jpg') in del_images_union:\n",
    "            del_count += 1\n",
    "        else:\n",
    "            os.link(os.path.join(dir_path, name), os.path.join(target_root, dir_name, name))\n",
    "\n",
    "    print(del_count)"
   ],
   "metadata": {
    "collapsed": false,
    "ExecuteTime": {
     "end_time": "2023-11-08T10:17:23.979156Z",
     "start_time": "2023-11-08T10:16:44.935254Z"
    }
   },
   "id": "f60ff420d28e2ea4"
  },
  {
   "cell_type": "code",
   "execution_count": 8,
   "outputs": [],
   "source": [
    "for dir_name in ['images', 'train', 'val', 'test']:\n",
    "    dir_path = os.path.join(target_root, dir_name)\n",
    "    with open(os.path.join(target_root, f'{dir_name}_filelist.txt'), 'w') as f:\n",
    "        for name in sorted(os.listdir(dir_path)):\n",
    "            f.write(f'{dir_name}/{name}\\n')"
   ],
   "metadata": {
    "collapsed": false,
    "ExecuteTime": {
     "end_time": "2023-11-08T10:18:02.303321Z",
     "start_time": "2023-11-08T10:17:59.784939Z"
    }
   },
   "id": "14c411511d94eeb7"
  },
  {
   "cell_type": "code",
   "execution_count": null,
   "outputs": [],
   "source": [
    "image_root_pub = '/home/suqi/dataset/pubtables-1m/PubTables-1M-Structure/'\n",
    "image_root_fin = '/home/suqi/dataset/FinTabNet.c/FinTabNet.c-Structure/'\n",
    "os.makedirs('../debug/clean_dataset', exist_ok=True)\n",
    "\n",
    "checkpoint = [0, 500, 1000, 2000, 4000, 10000, 20000, 50000, 100000]\n",
    "\n",
    "# chosen_names = []\n",
    "# for cp in checkpoint:\n",
    "#     for j in range(100):\n",
    "#         chosen_names.append([cp + j + 1, sorted_image_names[-(cp + j + 1)]])\n",
    "chosen_names = [(0, 'PMC3240581_table_0.jpg')]\n",
    "\n",
    "for idx, image_name in tqdm(chosen_names):\n",
    "    if 'CELL' in image_name or 'COL' in image_name:\n",
    "        continue\n",
    "    base_name = image_name.split('.jpg')[0]\n",
    "    image_root = glob(os.path.join(image_root_pub, 'images', image_name)) + glob(os.path.join(image_root_fin, 'images', image_name))\n",
    "    label_root = (glob(os.path.join(image_root_pub, '**', f'{base_name}.xml'), recursive=True) + \n",
    "                  glob(os.path.join(image_root_fin, '**', f'{base_name}.xml'), recursive=True))\n",
    "    assert len(image_root) == 1 and len(label_root) == 1\n",
    "    \n",
    "    image = np.array(Image.open(image_root[0]).convert('RGB'))\n",
    "    plt.imshow(image)\n",
    "    plt.show()\n",
    "    # bboxes, labels = read_pascal_voc(label_root[0], class_map)\n",
    "    # cells = bboxes_to_cells(np.array(bboxes), np.array(labels))\n",
    "    # cell_image = image.copy()\n",
    "    # for j, bbox in enumerate(cells):\n",
    "    #     bbox = list(map(lambda x: int(x), bbox))\n",
    "    #     x_min, y_min, x_max, y_max = bbox\n",
    "    #     cell_image = cv2.rectangle(cell_image, (x_min, y_min), (x_max, y_max), color=(255, 0, 0), thickness=1)\n",
    "    # \n",
    "    # image = np.concatenate([image, cell_image], axis=0)\n",
    "    # Image.fromarray(image).save(f\"../debug/clean_dataset/{str(idx).rjust(6, '0')}_{image_name}\")"
   ],
   "metadata": {
    "collapsed": false
   },
   "id": "6f3e7e44a8589b4"
  },
  {
   "cell_type": "code",
   "execution_count": 9,
   "outputs": [
    {
     "name": "stderr",
     "output_type": "stream",
     "text": [
      "100%|██████████| 771927/771927 [00:00<00:00, 947387.70it/s]\n"
     ]
    },
    {
     "name": "stdout",
     "output_type": "stream",
     "text": [
      "1.7493303419675028\n"
     ]
    },
    {
     "data": {
      "text/plain": "<Figure size 640x480 with 1 Axes>",
      "image/png": "[encoded data removed]"
     },
     "metadata": {},
     "output_type": "display_data"
    }
   ],
   "source": [
    "data_root_dirty = \"\"\n",
    "data_root_clean = \"/home/suqi/dataset/Pub_Fin_Syn_Union_Clean/images\"\n",
    "\n",
    "counter = defaultdict(lambda: 0)\n",
    "for name in tqdm(sorted(os.listdir(data_root_clean))):\n",
    "    if '_COL_' in name:\n",
    "        name = name.split('_COL_')[0]\n",
    "    elif '_CELL_' in name:\n",
    "        name = name.split('_CELL_')[0]\n",
    "    else:\n",
    "        name = name.split('.jpg')[0]\n",
    "    counter[name] += 1\n",
    "\n",
    "counter = np.array(list(counter.values()))\n",
    "assert sum(counter) == len(os.listdir(data_root_clean))\n",
    "print(np.mean(counter))\n",
    "\n",
    "plt.hist(counter, bins=range(0, 22))\n",
    "plt.show()"
   ],
   "metadata": {
    "collapsed": false,
    "ExecuteTime": {
     "end_time": "2023-10-25T09:45:30.422811Z",
     "start_time": "2023-10-25T09:45:28.043658Z"
    }
   },
   "id": "74254d430b729bb0"
  },
  {
   "cell_type": "code",
   "execution_count": null,
   "outputs": [],
   "source": [],
   "metadata": {
    "collapsed": false
   },
   "id": "bbca4e8e5b86b2cb"
  }
 ],
 "metadata": {
  "kernelspec": {
   "display_name": "Python 3",
   "language": "python",
   "name": "python3"
  },
  "language_info": {
   "codemirror_mode": {
    "name": "ipython",
    "version": 2
   },
   "file_extension": ".py",
   "mimetype": "text/x-python",
   "name": "python",
   "nbconvert_exporter": "python",
   "pygments_lexer": "ipython2",
   "version": "2.7.6"
  }
 },
 "nbformat": 4,
 "nbformat_minor": 5
}
