{
 "cells": [
  {
   "cell_type": "markdown",
   "source": [],
   "metadata": {
    "collapsed": false
   },
   "id": "576e9593b7540db3"
  },
  {
   "cell_type": "code",
   "execution_count": 4,
   "id": "initial_id",
   "metadata": {
    "collapsed": true,
    "ExecuteTime": {
     "end_time": "2023-10-18T06:38:59.645977Z",
     "start_time": "2023-10-18T06:38:56.265034Z"
    }
   },
   "outputs": [],
   "source": [
    "import os\n",
    "import sys\n",
    "\n",
    "import matplotlib.pyplot as plt\n",
    "import numpy as np\n",
    "\n",
    "sys.path.append(\"../../detr\")\n",
    "import torch\n",
    "import cv2\n",
    "from scipy import stats\n",
    "from PIL import Image\n",
    "from glob import glob"
   ]
  },
  {
   "cell_type": "code",
   "execution_count": 26,
   "outputs": [
    {
     "name": "stdout",
     "output_type": "stream",
     "text": [
      "[ 0 23 60 27 62 24 31  0 29] [1.38461338 0.26502366 1.53605547 0.0703124  1.6334111  0.21634584\n",
      " 0.12439886 1.38461338 0.02704323]\n"
     ]
    },
    {
     "ename": "ValueError",
     "evalue": "zero-size array to reduction operation maximum which has no identity",
     "output_type": "error",
     "traceback": [
      "\u001B[0;31m---------------------------------------------------------------------------\u001B[0m",
      "\u001B[0;31mValueError\u001B[0m                                Traceback (most recent call last)",
      "Cell \u001B[0;32mIn[26], line 28\u001B[0m\n\u001B[1;32m     26\u001B[0m \u001B[38;5;66;03m# image = cv2.line(image, (0, 5), (10, 5), thickness=3, color=(0, 0, 0))\u001B[39;00m\n\u001B[1;32m     27\u001B[0m image \u001B[38;5;241m=\u001B[39m cv2\u001B[38;5;241m.\u001B[39mrectangle(image, (\u001B[38;5;241m3\u001B[39m, \u001B[38;5;241m3\u001B[39m), (\u001B[38;5;241m18\u001B[39m, \u001B[38;5;241m18\u001B[39m), thickness\u001B[38;5;241m=\u001B[39m\u001B[38;5;241m4\u001B[39m, color\u001B[38;5;241m=\u001B[39m(\u001B[38;5;241m0\u001B[39m, \u001B[38;5;241m0\u001B[39m, \u001B[38;5;241m0\u001B[39m))\n\u001B[0;32m---> 28\u001B[0m stroke \u001B[38;5;241m=\u001B[39m \u001B[43mimage_stroke_size\u001B[49m\u001B[43m(\u001B[49m\u001B[43mnp\u001B[49m\u001B[38;5;241;43m.\u001B[39;49m\u001B[43marray\u001B[49m\u001B[43m(\u001B[49m\u001B[43mimage\u001B[49m\u001B[43m)\u001B[49m\u001B[43m)\u001B[49m\n\u001B[1;32m     29\u001B[0m \u001B[38;5;28mprint\u001B[39m(stroke)\n\u001B[1;32m     30\u001B[0m plt\u001B[38;5;241m.\u001B[39mimshow(image)\n",
      "Cell \u001B[0;32mIn[25], line 39\u001B[0m, in \u001B[0;36mimage_stroke_size\u001B[0;34m(image, device, max_size)\u001B[0m\n\u001B[1;32m     37\u001B[0m scores \u001B[38;5;241m=\u001B[39m np\u001B[38;5;241m.\u001B[39mabs(stats\u001B[38;5;241m.\u001B[39mzscore(stroke_distribution))\n\u001B[1;32m     38\u001B[0m \u001B[38;5;28mprint\u001B[39m(stroke_distribution, scores)\n\u001B[0;32m---> 39\u001B[0m \u001B[38;5;28;01mreturn\u001B[39;00m \u001B[43mnp\u001B[49m\u001B[38;5;241;43m.\u001B[39;49m\u001B[43mwhere\u001B[49m\u001B[43m(\u001B[49m\u001B[43mscores\u001B[49m\u001B[43m \u001B[49m\u001B[38;5;241;43m>\u001B[39;49m\u001B[43m \u001B[49m\u001B[38;5;241;43m3\u001B[39;49m\u001B[43m)\u001B[49m\u001B[43m[\u001B[49m\u001B[38;5;241;43m0\u001B[39;49m\u001B[43m]\u001B[49m\u001B[38;5;241;43m.\u001B[39;49m\u001B[43mmax\u001B[49m\u001B[43m(\u001B[49m\u001B[43m)\u001B[49m\n",
      "File \u001B[0;32m/opt/conda/envs/docai_table/lib/python3.10/site-packages/numpy/core/_methods.py:41\u001B[0m, in \u001B[0;36m_amax\u001B[0;34m(a, axis, out, keepdims, initial, where)\u001B[0m\n\u001B[1;32m     39\u001B[0m \u001B[38;5;28;01mdef\u001B[39;00m \u001B[38;5;21m_amax\u001B[39m(a, axis\u001B[38;5;241m=\u001B[39m\u001B[38;5;28;01mNone\u001B[39;00m, out\u001B[38;5;241m=\u001B[39m\u001B[38;5;28;01mNone\u001B[39;00m, keepdims\u001B[38;5;241m=\u001B[39m\u001B[38;5;28;01mFalse\u001B[39;00m,\n\u001B[1;32m     40\u001B[0m           initial\u001B[38;5;241m=\u001B[39m_NoValue, where\u001B[38;5;241m=\u001B[39m\u001B[38;5;28;01mTrue\u001B[39;00m):\n\u001B[0;32m---> 41\u001B[0m     \u001B[38;5;28;01mreturn\u001B[39;00m \u001B[43mumr_maximum\u001B[49m\u001B[43m(\u001B[49m\u001B[43ma\u001B[49m\u001B[43m,\u001B[49m\u001B[43m \u001B[49m\u001B[43maxis\u001B[49m\u001B[43m,\u001B[49m\u001B[43m \u001B[49m\u001B[38;5;28;43;01mNone\u001B[39;49;00m\u001B[43m,\u001B[49m\u001B[43m \u001B[49m\u001B[43mout\u001B[49m\u001B[43m,\u001B[49m\u001B[43m \u001B[49m\u001B[43mkeepdims\u001B[49m\u001B[43m,\u001B[49m\u001B[43m \u001B[49m\u001B[43minitial\u001B[49m\u001B[43m,\u001B[49m\u001B[43m \u001B[49m\u001B[43mwhere\u001B[49m\u001B[43m)\u001B[49m\n",
      "\u001B[0;31mValueError\u001B[0m: zero-size array to reduction operation maximum which has no identity"
     ]
    }
   ],
   "source": [
    "# image_root = '/home/suqi/dataset/MolScribe/preprocessed'\n",
    "# image_names = [\n",
    "#     'indigo_validation_set_examples_0000000.png',\n",
    "#     'indigo_validation_set_examples_0000001.png',\n",
    "#     'indigo_validation_set_examples_0000002.png',\n",
    "#     'indigo_validation_set_examples_0000003.png',\n",
    "#     'indigo_validation_set_examples_0000004.png',\n",
    "#     'indigo_validation_set_examples_0000005.png',\n",
    "#     'indigo_validation_set_examples_0000006.png',\n",
    "#     'indigo_validation_set_examples_0000007.png',\n",
    "#     'indigo_validation_set_examples_0000008.png',\n",
    "#     'indigo_validation_set_examples_0000009.png'\n",
    "# ]\n",
    "# \n",
    "# for image_name in image_names[1:]:\n",
    "#     image = Image.open(os.path.join(image_root, image_name)).convert('RGB')\n",
    "#     stroke = image_stroke_size(np.array(image))\n",
    "#     print(stroke)\n",
    "#     plt.imshow(image)\n",
    "#     plt.show()\n",
    "# \n",
    "#     sizes = np.reshape(sizes, (-1,))\n",
    "#     plt.hist(sizes, bins=range(1, 10, 1))\n",
    "#     plt.show()\n",
    "image = np.ones(shape=(20, 20, 3), dtype=np.uint8) * 255\n",
    "# image = cv2.line(image, (0, 5), (10, 5), thickness=3, color=(0, 0, 0))\n",
    "image = cv2.rectangle(image, (3, 3), (18, 18), thickness=4, color=(0, 0, 0))\n",
    "stroke = image_stroke_size(np.array(image))\n",
    "print(stroke)\n",
    "plt.imshow(image)\n",
    "plt.show()\n",
    "\"\"\"\n",
    "[[255   0   0   0   0   0   0   0   0   0]\n",
    " [  0   0   0   0   0   0   0   0   0   0]\n",
    " [  0   0   0   0   0   0   0   0   0   0]\n",
    " [  0   0   0 255 255 255 255 255   0   0]\n",
    " [  0   0   0 255 255 255 255 255   0   0]\n",
    " [  0   0   0 255 255 255 255 255   0   0]\n",
    " [  0   0   0 255 255 255 255 255   0   0]\n",
    " [  0   0   0 255 255 255 255 255   0   0]\n",
    " [  0   0   0   0   0   0   0   0   0   0]\n",
    " [  0   0   0   0   0   0   0   0   0   0]]\n",
    "\"\"\""
   ],
   "metadata": {
    "collapsed": false,
    "ExecuteTime": {
     "end_time": "2023-10-18T04:01:30.227385Z",
     "start_time": "2023-10-18T04:01:30.131705Z"
    }
   },
   "id": "490dad18b98b876a"
  },
  {
   "cell_type": "code",
   "execution_count": 5,
   "outputs": [],
   "source": [
    "pdf_root = '/home/suqi/dataset/pdf_data'\n",
    "save_root = '/home/suqi/dataset/pdf_images'\n",
    "os.makedirs(save_root, exist_ok=True)\n",
    "\n",
    "pdf_paths = sorted(glob(os.path.join(pdf_root, '**', '*.pdf'), recursive=True))"
   ],
   "metadata": {
    "collapsed": false,
    "ExecuteTime": {
     "end_time": "2023-10-18T06:39:03.849419Z",
     "start_time": "2023-10-18T06:39:03.848245Z"
    }
   },
   "id": "982e014169085642"
  },
  {
   "cell_type": "code",
   "execution_count": 6,
   "outputs": [
    {
     "name": "stdout",
     "output_type": "stream",
     "text": [
      "3714\n",
      "774\n"
     ]
    }
   ],
   "source": [
    "print(len(pdf_paths))\n",
    "pdf_names = [path.split('/')[-1] for path in pdf_paths]\n",
    "print(pdf_names.index(\"9850-9857.pdf\"))"
   ],
   "metadata": {
    "collapsed": false,
    "ExecuteTime": {
     "end_time": "2023-10-18T06:39:04.163705Z",
     "start_time": "2023-10-18T06:39:04.163345Z"
    }
   },
   "id": "b928bf61ad81d37"
  },
  {
   "cell_type": "code",
   "execution_count": null,
   "outputs": [],
   "source": [],
   "metadata": {
    "collapsed": false
   },
   "id": "3a6079df404a7745"
  }
 ],
 "metadata": {
  "kernelspec": {
   "display_name": "Python 3",
   "language": "python",
   "name": "python3"
  },
  "language_info": {
   "codemirror_mode": {
    "name": "ipython",
    "version": 2
   },
   "file_extension": ".py",
   "mimetype": "text/x-python",
   "name": "python",
   "nbconvert_exporter": "python",
   "pygments_lexer": "ipython2",
   "version": "2.7.6"
  }
 },
 "nbformat": 4,
 "nbformat_minor": 5
}
