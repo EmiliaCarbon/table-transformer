{
 "cells": [
  {
   "cell_type": "code",
   "execution_count": 1,
   "outputs": [],
   "source": [
    "import os\n",
    "import sys\n",
    "sys.path.append('../../detr')\n",
    "import numpy as np\n",
    "import cv2\n",
    "import matplotlib.pyplot as plt\n",
    "from tqdm import tqdm\n",
    "import torch\n",
    "from scipy import ndimage\n",
    "import bisect\n",
    "from src.eval import infer_visualize\n",
    "from src.main import get_model\n",
    "import json\n",
    "import argparse\n",
    "import torch.nn as nn\n",
    "from PIL import Image\n",
    "import warnings\n",
    "warnings.filterwarnings('ignore')"
   ],
   "metadata": {
    "collapsed": false,
    "ExecuteTime": {
     "end_time": "2023-11-23T08:51:44.347082Z",
     "start_time": "2023-11-23T08:51:40.860568Z"
    }
   },
   "id": "8c1add6ce559b644"
  },
  {
   "cell_type": "code",
   "execution_count": 7,
   "outputs": [],
   "source": [
    "def get_args():\n",
    "    parser = argparse.ArgumentParser()\n",
    "\n",
    "    parser.add_argument('--data_root_dir',\n",
    "                        # required=True,\n",
    "                        help=\"Root data directory for images and labels\")\n",
    "    parser.add_argument('--config_file',\n",
    "                        # required=True,\n",
    "                        help=\"Filepath to the config containing the args\")\n",
    "    parser.add_argument('--backbone',\n",
    "                        default='resnet18',\n",
    "                        help=\"Backbone for the model\")\n",
    "    parser.add_argument(\n",
    "        '--data_type',\n",
    "        choices=['detection', 'structure'],\n",
    "        default='structure',\n",
    "        help=\"toggle between structure recognition and table detection\")\n",
    "    parser.add_argument('--model_load_path', help=\"The path to trained model\")\n",
    "    parser.add_argument('--load_weights_only', action='store_true')\n",
    "    parser.add_argument('--model_save_dir', help=\"The output directory for saving model params and checkpoints\")\n",
    "    parser.add_argument('--metrics_save_filepath',\n",
    "                        help='Filepath to save grits outputs',\n",
    "                        default='')\n",
    "    parser.add_argument('--debug_save_dir',\n",
    "                        help='Filepath to save visualizations',\n",
    "                        default='debug')\n",
    "    parser.add_argument('--table_words_dir',\n",
    "                        help=\"Folder containg the bboxes of table words\")\n",
    "    parser.add_argument('--mode',\n",
    "                        choices=['train', 'eval'],\n",
    "                        default='train',\n",
    "                        help=\"Modes: training (train) and evaluation (eval)\")\n",
    "    parser.add_argument('--debug', action='store_true')\n",
    "    parser.add_argument('--device')\n",
    "    parser.add_argument('--lr', type=float)\n",
    "    parser.add_argument('--lr_drop', type=int)\n",
    "    parser.add_argument('--lr_gamma', type=float)\n",
    "    parser.add_argument('--epochs', type=int)\n",
    "    parser.add_argument('--checkpoint_freq', default=1, type=int)\n",
    "    parser.add_argument('--batch_size', type=int)\n",
    "    parser.add_argument('--num_workers', type=int)\n",
    "    parser.add_argument('--train_max_size', type=int)\n",
    "    parser.add_argument('--val_max_size', type=int)\n",
    "    parser.add_argument('--test_max_size', type=int)\n",
    "    parser.add_argument('--eval_pool_size', type=int, default=1)\n",
    "    parser.add_argument('--eval_step', type=int, default=1)\n",
    "    \n",
    "    parser.add_argument('--overlap', action='store_true')\n",
    "    parser.add_argument(\"--overlap_loss_coef\", type=int, default=1)\n",
    "    args, unknown = parser.parse_known_args()\n",
    "    return args"
   ],
   "metadata": {
    "collapsed": false,
    "ExecuteTime": {
     "end_time": "2023-11-23T08:56:23.055427Z",
     "start_time": "2023-11-23T08:56:23.054401Z"
    }
   },
   "id": "bc97eba9a91e0bb9"
  },
  {
   "cell_type": "code",
   "execution_count": 3,
   "outputs": [
    {
     "name": "stdout",
     "output_type": "stream",
     "text": [
      "42\n"
     ]
    }
   ],
   "source": [
    "image_folder = '/home/suqi/dataset/pdf_images_filter_1'\n",
    "\n",
    "# 随机选择部分样本进行测试\n",
    "k = 500\n",
    "np.random.seed(0)\n",
    "# test_list = sorted([name for name in os.listdir(image_folder) if 'COL' in name])\n",
    "test_list = sorted([name for name in os.listdir(image_folder)])\n",
    "# np.random.shuffle(test_list)\n",
    "# test_list = test_list[:k]\n",
    "img_paths = [os.path.join(image_folder, name) for name in test_list]\n",
    "\n",
    "# img_names = ['_'.join(name.split('_')[:-1]) + '.jpg' for name in os.listdir('/home/suqi/dataset/temp/visualize')]\n",
    "# img_paths = [os.path.join(image_folder, name) for name in list(set(img_names))]\n",
    "print(len(img_paths))"
   ],
   "metadata": {
    "collapsed": false,
    "ExecuteTime": {
     "end_time": "2023-11-23T08:54:30.413750Z",
     "start_time": "2023-11-23T08:54:30.402623Z"
    }
   },
   "id": "56a2b13132bd9190"
  },
  {
   "cell_type": "code",
   "execution_count": 4,
   "outputs": [
    {
     "name": "stdout",
     "output_type": "stream",
     "text": [
      "0\n"
     ]
    }
   ],
   "source": [
    "# load images\n",
    "samples = []\n",
    "img_paths_filter = []\n",
    "errors = 0\n",
    "for path in img_paths:\n",
    "    try:\n",
    "        samples.append(Image.open(path).convert('RGB'))\n",
    "        img_paths_filter.append(path)\n",
    "    except Exception as e:\n",
    "        errors += 1\n",
    "        print(f\"Exception when load image {path}\")\n",
    "img_paths = img_paths_filter\n",
    "print(errors)"
   ],
   "metadata": {
    "collapsed": false,
    "ExecuteTime": {
     "end_time": "2023-11-23T08:54:33.909511Z",
     "start_time": "2023-11-23T08:54:33.515403Z"
    }
   },
   "id": "711709274e8d5d0"
  },
  {
   "cell_type": "code",
   "execution_count": 8,
   "outputs": [
    {
     "name": "stdout",
     "output_type": "stream",
     "text": [
      "loading model from checkpoint\n",
      "load model parameters successfully!\n"
     ]
    }
   ],
   "source": [
    "args = get_args()\n",
    "args.config_file = \"../structure_config.json\"\n",
    "args.data_type = None\n",
    "args.model_load_path = \"/home/suqi/model/TATR/finetune/train_finetune_resnet34/model_best.pth\"\n",
    "args.backbone = \"resnet34\"\n",
    "args.debug_save_dir = \"/home/suqi/dataset/temp/visualize_filter_pdf_v5/\"\n",
    "os.makedirs(args.debug_save_dir, exist_ok=True)\n",
    "args.device = \"cuda:4\"\n",
    "\n",
    "cmd_args = args.__dict__\n",
    "config_args = json.load(open(cmd_args['config_file'], 'rb'))\n",
    "for key, value in cmd_args.items():\n",
    "    if not key in config_args or not value is None:\n",
    "        config_args[key] = value\n",
    "# config_args.update(cmd_args)\n",
    "args = type('Args', (object,), config_args)\n",
    "\n",
    "# define and load model\n",
    "device = torch.device(args.device)\n",
    "model, _, _ = get_model(args, device)"
   ],
   "metadata": {
    "collapsed": false,
    "ExecuteTime": {
     "end_time": "2023-11-23T08:56:27.154292Z",
     "start_time": "2023-11-23T08:56:25.538541Z"
    }
   },
   "id": "2f8b4d23949c123c"
  },
  {
   "cell_type": "code",
   "execution_count": 9,
   "outputs": [
    {
     "name": "stderr",
     "output_type": "stream",
     "text": [
      "Inferring: : 42it [02:54,  4.16s/it]\n"
     ]
    }
   ],
   "source": [
    "# 约3.00s/it\n",
    "infer_visualize(model, samples, device, img_paths, args.debug_save_dir, True)"
   ],
   "metadata": {
    "collapsed": false,
    "ExecuteTime": {
     "end_time": "2023-11-23T08:59:28.272133Z",
     "start_time": "2023-11-23T08:56:29.470072Z"
    }
   },
   "id": "b26ef8d33c7bad8e"
  },
  {
   "cell_type": "code",
   "execution_count": 11,
   "outputs": [
    {
     "ename": "NameError",
     "evalue": "name 'model' is not defined",
     "output_type": "error",
     "traceback": [
      "\u001B[0;31m---------------------------------------------------------------------------\u001B[0m",
      "\u001B[0;31mNameError\u001B[0m                                 Traceback (most recent call last)",
      "Cell \u001B[0;32mIn[11], line 1\u001B[0m\n\u001B[0;32m----> 1\u001B[0m \u001B[38;5;28;01mdel\u001B[39;00m model\n\u001B[1;32m      2\u001B[0m torch\u001B[38;5;241m.\u001B[39mcuda\u001B[38;5;241m.\u001B[39mempty_cache()\n",
      "\u001B[0;31mNameError\u001B[0m: name 'model' is not defined"
     ]
    }
   ],
   "source": [
    "del model\n",
    "torch.cuda.empty_cache()"
   ],
   "metadata": {
    "collapsed": false,
    "ExecuteTime": {
     "end_time": "2023-11-23T09:00:33.444760Z",
     "start_time": "2023-11-23T09:00:33.425969Z"
    }
   },
   "id": "6a23566d6612845b"
  },
  {
   "cell_type": "code",
   "execution_count": null,
   "outputs": [],
   "source": [],
   "metadata": {
    "collapsed": false
   },
   "id": "e5097033343ed2aa"
  }
 ],
 "metadata": {
  "kernelspec": {
   "display_name": "Python 3",
   "language": "python",
   "name": "python3"
  },
  "language_info": {
   "codemirror_mode": {
    "name": "ipython",
    "version": 2
   },
   "file_extension": ".py",
   "mimetype": "text/x-python",
   "name": "python",
   "nbconvert_exporter": "python",
   "pygments_lexer": "ipython2",
   "version": "2.7.6"
  }
 },
 "nbformat": 4,
 "nbformat_minor": 5
}
