{
 "cells": [
  {
   "cell_type": "code",
   "execution_count": null,
   "id": "initial_id",
   "metadata": {
    "collapsed": true
   },
   "outputs": [],
   "source": [
    "import os\n",
    "\n",
    "os.chdir('../')\n",
    "import sys\n",
    "\n",
    "import numpy as np\n",
    "\n",
    "sys.path.append(\"../detr\")\n",
    "from table_datasets import read_pascal_voc\n",
    "from src.main import get_class_map\n",
    "from docai_util import bboxes_to_cells, image_replace, binarize, _boundary_range, box_shrink\n",
    "import cv2\n",
    "import matplotlib.pyplot as plt\n",
    "from tqdm import tqdm\n",
    "import torch\n",
    "import bisect\n",
    "from PIL import Image\n",
    "from glob import glob"
   ]
  },
  {
   "cell_type": "code",
   "execution_count": null,
   "outputs": [],
   "source": [
    "class_map = get_class_map('structure')\n",
    "index_to_class_map = {val: key for key, val in class_map.items()}\n",
    "\n",
    "color_map = {\n",
    "    'table': (0, 0, 0),\n",
    "    'table column': (255, 0, 0),\n",
    "    'table row': (0, 255, 0),\n",
    "    'table column header': (0, 0, 255),\n",
    "    'table projected row header': (255, 255, 0),\n",
    "    'table spanning cell': (255, 0, 255)\n",
    "}"
   ],
   "metadata": {
    "collapsed": false
   },
   "id": "b899ab488987fedc"
  },
  {
   "cell_type": "markdown",
   "source": [
    "## 测试"
   ],
   "metadata": {
    "collapsed": false
   },
   "id": "3d9d213b3e4affa5"
  },
  {
   "cell_type": "code",
   "execution_count": null,
   "outputs": [],
   "source": [
    "# xmin, ymin, xmax, ymax\n",
    "bboxes, labels = read_pascal_voc('/home/suqi/dataset/pubtables-1m/PubTables-1M-Structure/train/PMC1592305_table_0.xml',\n",
    "                                 class_map)\n",
    "bboxes = np.array(bboxes).astype(np.int32)\n",
    "labels = np.array(labels).astype(np.int32)"
   ],
   "metadata": {
    "collapsed": false
   },
   "id": "992556667132b5eb"
  },
  {
   "cell_type": "code",
   "execution_count": null,
   "outputs": [],
   "source": [
    "print(bboxes[labels == 2])"
   ],
   "metadata": {
    "collapsed": false
   },
   "id": "aee9d1e1687af59"
  },
  {
   "cell_type": "code",
   "execution_count": null,
   "outputs": [],
   "source": [
    "print(len(bboxes))\n",
    "print(len(labels))"
   ],
   "metadata": {
    "collapsed": false
   },
   "id": "3ca0e93dddf80b46"
  },
  {
   "cell_type": "code",
   "execution_count": null,
   "outputs": [],
   "source": [
    "for label in range(6):\n",
    "    image = cv2.imread('/home/suqi/dataset/pubtables-1m/PubTables-1M-Structure/images/PMC1592305_table_0.jpg')\n",
    "    image = cv2.cvtColor(image, cv2.COLOR_BGR2RGB)\n",
    "\n",
    "    for idx, bbox in enumerate(bboxes):\n",
    "        if labels[idx] != label:\n",
    "            continue\n",
    "        x_min, y_min, x_max, y_max = map(lambda x: int(x), bbox.tolist())\n",
    "        color = color_map[index_to_class_map[labels[idx]]]\n",
    "        image = cv2.rectangle(image, (x_min, y_min), (x_max, y_max), color=color,\n",
    "                              thickness=1)\n",
    "    plt.imshow(image)\n",
    "    plt.title(index_to_class_map[label])\n",
    "    plt.show()\n",
    "\n",
    "image = cv2.imread('/home/suqi/dataset/pubtables-1m/PubTables-1M-Structure/images/PMC1592305_table_0.jpg')\n",
    "image = cv2.cvtColor(image, cv2.COLOR_BGR2RGB)\n",
    "cells = bboxes_to_cells(bboxes, labels)\n",
    "print(cells.shape)\n",
    "\n",
    "for cell in cells:\n",
    "    x_min, y_min, x_max, y_max = map(lambda x: int(x), cell.tolist())\n",
    "    image = cv2.rectangle(image, (x_min, y_min), (x_max, y_max), color=(255, 255, 0), thickness=1)\n",
    "\n",
    "plt.imshow(image)\n",
    "plt.title(\"cell\")\n",
    "plt.show()"
   ],
   "metadata": {
    "collapsed": false
   },
   "id": "d41d5f12a76d2891"
  },
  {
   "cell_type": "markdown",
   "source": [
    "## 统计表格中grid的大小"
   ],
   "metadata": {
    "collapsed": false
   },
   "id": "a33a0ded993510f8"
  },
  {
   "cell_type": "code",
   "execution_count": null,
   "outputs": [],
   "source": [
    "anno_root = [\n",
    "    '/home/suqi/dataset/FinTabNet.c/FinTabNet.c-Structure/train/',\n",
    "    '/home/suqi/dataset/FinTabNet.c/FinTabNet.c-Structure/test/',\n",
    "    '/home/suqi/dataset/FinTabNet.c/FinTabNet.c-Structure/val/'\n",
    "]\n",
    "\n",
    "# length 97475\n",
    "xml_paths = []\n",
    "for root in anno_root:\n",
    "    xml_paths.extend([os.path.join(root, path) for path in sorted(os.listdir(root)) if path.endswith('.xml')])\n",
    "print(len(xml_paths))"
   ],
   "metadata": {
    "collapsed": false
   },
   "id": "849503da80694c18"
  },
  {
   "cell_type": "code",
   "execution_count": null,
   "outputs": [],
   "source": [
    "cell_map = {}\n",
    "\n",
    "for xml_path in tqdm(xml_paths):\n",
    "    bboxes, labels = read_pascal_voc(xml_path, class_map)\n",
    "    bboxes, labels = map(lambda x: np.array(x).astype(np.int32), (bboxes, labels))\n",
    "    cell_map[xml_path] = bboxes_to_cells(bboxes, labels)"
   ],
   "metadata": {
    "collapsed": false
   },
   "id": "485802d45a8fd363"
  },
  {
   "cell_type": "code",
   "execution_count": null,
   "outputs": [],
   "source": [
    "torch.save(cell_map, './statistics/cell_shapes_fintable.pth')\n",
    "# cell_map = torch.load('./statistics/cell_shapes_pubtable.pth')"
   ],
   "metadata": {
    "collapsed": false
   },
   "id": "b4485a6336ee29c5"
  },
  {
   "cell_type": "code",
   "execution_count": null,
   "outputs": [],
   "source": [
    "pathes, cells, indices = [], [], []\n",
    "\n",
    "for idx, (path, cell) in enumerate(cell_map.items()):\n",
    "    pathes.append(path)\n",
    "    cells.append(cell)\n",
    "    indices.append([idx] * len(cell))\n",
    "\n",
    "cells = np.concatenate(cells, axis=0)\n",
    "widths = cells[:, 2] - cells[:, 0]\n",
    "heights = cells[:, 3] - cells[:, 1]\n",
    "indices = np.concatenate(indices, axis=0)"
   ],
   "metadata": {
    "collapsed": false
   },
   "id": "79aa00b98a200ce6"
  },
  {
   "cell_type": "code",
   "execution_count": null,
   "outputs": [],
   "source": [
    "print(cells.shape)\n",
    "print(indices.shape)"
   ],
   "metadata": {
    "collapsed": false
   },
   "id": "42d12a33393a3497"
  },
  {
   "cell_type": "code",
   "execution_count": null,
   "outputs": [],
   "source": [
    "# sort the cells by their height\n",
    "indices_height = np.argsort(heights, axis=0)\n",
    "indices_area = np.argsort(heights * widths, axis=0)"
   ],
   "metadata": {
    "collapsed": false
   },
   "id": "faae80f8c7ba4fb9"
  },
  {
   "cell_type": "code",
   "execution_count": null,
   "outputs": [],
   "source": [
    "scores = np.zeros_like(indices_height)\n",
    "scores[indices_height] += np.arange(len(indices_height))\n",
    "scores[indices_area] += np.arange(len(indices_area))"
   ],
   "metadata": {
    "collapsed": false
   },
   "id": "cc77f3e67c82a3b1"
  },
  {
   "cell_type": "code",
   "execution_count": null,
   "outputs": [],
   "source": [
    "sorted_indices = scores.argsort()[::-1]"
   ],
   "metadata": {
    "collapsed": false
   },
   "id": "15a76d36e3f0d264"
  },
  {
   "cell_type": "code",
   "execution_count": null,
   "outputs": [],
   "source": [
    "width = cells[:, 2] - cells[:, 0]\n",
    "height = cells[:, 3] - cells[:, 1]\n",
    "print(np.sum((width > 100) & (height > 100)))\n"
   ],
   "metadata": {
    "collapsed": false
   },
   "id": "640684067dc1eb11"
  },
  {
   "cell_type": "markdown",
   "source": [
    "## 插图测试"
   ],
   "metadata": {
    "collapsed": false
   },
   "id": "e096241dd67db573"
  },
  {
   "cell_type": "code",
   "execution_count": null,
   "outputs": [],
   "source": [
    "image = Image.open('/home/suqi/dataset/FinTabNet.c/FinTabNet.c-Structure/images/BIIB_2015_page_115_table_0.jpg').convert(\n",
    "    'RGB')\n",
    "image = np.array(image)\n",
    "bboxes, labels = read_pascal_voc('/home/suqi/dataset/FinTabNet.c/FinTabNet.c-Structure/train/BIIB_2015_page_115_table_0.xml',\n",
    "                                 class_map)\n",
    "cells = bboxes_to_cells(np.array(bboxes), np.array(labels))"
   ],
   "metadata": {
    "collapsed": false
   },
   "id": "d20f49f6da525f67"
  },
  {
   "cell_type": "markdown",
   "source": [
    "## 载入分子数据集的路径，供随机选择"
   ],
   "metadata": {
    "collapsed": false
   },
   "id": "7db649d5428ff9c3"
  },
  {
   "cell_type": "code",
   "execution_count": null,
   "outputs": [],
   "source": [
    "image_names = []\n",
    "image_shapes = []\n",
    "\n",
    "for key, val in torch.load('./statistics/molecular_image_shape.pth').items():\n",
    "    image_names.append(key)\n",
    "    image_shapes.append(val)\n",
    "\n",
    "image_names = np.array(image_names)\n",
    "image_shapes = np.stack(image_shapes, axis=0)\n",
    "\n",
    "width_height_ratio = image_shapes[:, 0] / image_shapes[:, 1]\n",
    "whr_indices = np.argsort(width_height_ratio)\n",
    "image_names, image_shapes, width_height_ratio = image_names[whr_indices], image_shapes[whr_indices], width_height_ratio[\n",
    "    whr_indices]\n"
   ],
   "metadata": {
    "collapsed": false
   },
   "id": "99287f0f751da75"
  },
  {
   "cell_type": "code",
   "execution_count": null,
   "outputs": [],
   "source": [
    "for bbox in cells:\n",
    "    box_width, box_height = bbox[2] - bbox[0], bbox[3] - bbox[1]\n",
    "    whr = box_width / box_height\n",
    "    idx = bisect.bisect(width_height_ratio, whr)\n",
    "    cand_radius = 20\n",
    "    cand_indices = np.arange(max(idx - cand_radius, 0),\n",
    "                             min(idx + cand_radius, len(width_height_ratio)))\n",
    "\n",
    "    # 计算这些候选分子图填到cell里需要进行的缩放的大小\n",
    "    scales = (np.array([box_width, box_height]) / image_shapes[cand_indices]).min(axis=-1)\n",
    "    scales[scales < 1] = 1 / scales[scales < 1]\n",
    "\n",
    "    # 缩放越接近1的分子有更大概率被抽到\n",
    "    prob_no_norm = np.exp(-scales)\n",
    "    prob = prob_no_norm / np.sum(prob_no_norm)\n",
    "    idx = np.random.choice(cand_indices, size=1, replace=False, p=prob)[0]\n",
    "\n",
    "    target = Image.open('/home/suqi/dataset/MolScribe/preprocessed/' + image_names[idx]).convert('RGB')\n",
    "    target = np.array(target)\n",
    "    bbox = box_shrink(image, bbox)\n",
    "    merged_image = image_replace(image, bbox, target)\n",
    "    plt.imshow(merged_image)\n",
    "    plt.show()\n",
    "    # plt.imshow(image)\n",
    "    # plt.show()\n",
    "    # plt.imshow(box_image)\n",
    "    # plt.show()\n",
    "    # plt.imshow(bin_image, cmap='gray')\n",
    "    # plt.show()"
   ],
   "metadata": {
    "collapsed": false
   },
   "id": "c521a687562cf99e"
  },
  {
   "cell_type": "markdown",
   "source": [
    " ## 改进的边界线检测算法"
   ],
   "metadata": {
    "collapsed": false
   },
   "id": "883e5dd0497fea92"
  },
  {
   "cell_type": "code",
   "execution_count": null,
   "outputs": [],
   "source": [
    "image_path = '/home/suqi/dataset/pubtables-1m/PubTables-1M-Structure/images/PMC4741940_table_0.jpg'\n",
    "image = Image.open(image_path)\n",
    "image = np.array(image)\n",
    "\n",
    "bboxes, labels = read_pascal_voc('/home/suqi/dataset/pubtables-1m/PubTables-1M-Structure/test/PMC4741940_table_0.xml',\n",
    "                                 class_map)\n",
    "cells = bboxes_to_cells(np.array(bboxes), np.array(labels))"
   ],
   "metadata": {
    "collapsed": false
   },
   "id": "f2177064fe2f4dbf"
  },
  {
   "cell_type": "code",
   "execution_count": null,
   "outputs": [],
   "source": [
    "for idx, bbox in enumerate(cells):\n",
    "    bbox = list(map(lambda x: int(x), bbox))\n",
    "    x_min, y_min, x_max, y_max = bbox\n",
    "\n",
    "    box_image = cv2.rectangle(image.copy(), (x_min, y_min), (x_max, y_max), color=(255, 0, 0), thickness=1)\n",
    "    plt.imshow(box_image)\n",
    "    plt.title(idx)\n",
    "    plt.show()\n",
    "\n",
    "    x_min, y_min, x_max, y_max = box_shrink(image, bbox)\n",
    "    box_image = cv2.rectangle(image.copy(), (x_min, y_min), (x_max, y_max), color=(255, 0, 0), thickness=1)\n",
    "    plt.imshow(box_image)\n",
    "    plt.title(idx)\n",
    "    plt.show()"
   ],
   "metadata": {
    "collapsed": false
   },
   "id": "228212875f1ef758"
  },
  {
   "cell_type": "markdown",
   "source": [
    "## Badcase"
   ],
   "metadata": {
    "collapsed": false
   },
   "id": "3b4db1df7637f3cc"
  },
  {
   "cell_type": "code",
   "execution_count": null,
   "outputs": [],
   "source": [
    "image_names = [\n",
    "    \"PMC2698926_table_0_COL_01_cells.jpg\",\n",
    "    \"PMC3398646_table_1_COL_01_cells.jpg\",\n",
    "    \"PMC4508365_table_0_COL_01_cells.jpg\",\n",
    "    \"PMC4629724_table_0_COL_08_cells.jpg\",\n",
    "    \"PMC4707276_table_1_COL_01_cells.jpg\",\n",
    "    \"PMC4869378_table_0_COL_00_cells.jpg\",\n",
    "    \"PMC5039233_table_0_COL_00_cells.jpg\",\n",
    "    \"PMC5129660_table_2_COL_03_cells.jpg\",\n",
    "    \"PMC5124561_table_1_COL_03_cells.jpg\",\n",
    "    \"PMC5854118_table_0_COL_02_cells.jpg\",\n",
    "    \"PMC5855521_table_0_COL_01_cells.jpg\",\n",
    "    \"PMC5937855_table_0_COL_01_cells.jpg\",\n",
    "    \"PMC6166094_table_0_COL_00_cells.jpg\",\n",
    "    \"PMC5051389_table_0_COL_01_cells.jpg\",\n",
    "    \"PMC2672029_table_0_COL_03_cells.jpg\",\n",
    "]\n",
    "for name in image_names:\n",
    "    base_name = name.split('_COL_')[0]\n",
    "    source_image = Image.open(\n",
    "    f'/home/suqi/dataset/pubtables-1m/PubTables-1M-Structure/images/{base_name}.jpg').convert('RGB')\n",
    "    source_image = np.array(source_image)\n",
    "    \n",
    "    label_file = glob(os.path.join(\"/home/suqi/dataset/pubtables-1m/PubTables-1M-Structure/\", \"**\", f\"{base_name}.xml\"))\n",
    "    assert len(label_file) == 1\n",
    "    bboxes, labels = read_pascal_voc(label_file[0], class_map)\n",
    "    cells = bboxes_to_cells(np.array(bboxes), np.array(labels))\n",
    "    \n",
    "    # show source image\n",
    "    plt.imshow(source_image)\n",
    "    plt.title('Source Image')\n",
    "    plt.show()\n",
    "    \n",
    "    cell_image = source_image.copy()\n",
    "    for idx, bbox in enumerate(cells):\n",
    "        bbox = list(map(lambda x: int(x), bbox))\n",
    "        x_min, y_min, x_max, y_max = bbox\n",
    "    \n",
    "        cell_image = cv2.rectangle(cell_image, (x_min, y_min), (x_max, y_max), color=(255, 0, 0), thickness=1)\n",
    "    plt.imshow(cell_image)\n",
    "    plt.title('Cell Image')\n",
    "    plt.show()\n"
   ],
   "metadata": {
    "collapsed": false
   },
   "id": "15e5e16cfeb93d2f"
  },
  {
   "cell_type": "code",
   "execution_count": null,
   "outputs": [],
   "source": [],
   "metadata": {
    "collapsed": false
   },
   "id": "62ed559c344ec3f3"
  }
 ],
 "metadata": {
  "kernelspec": {
   "display_name": "Python 3",
   "language": "python",
   "name": "python3"
  },
  "language_info": {
   "codemirror_mode": {
    "name": "ipython",
    "version": 2
   },
   "file_extension": ".py",
   "mimetype": "text/x-python",
   "name": "python",
   "nbconvert_exporter": "python",
   "pygments_lexer": "ipython2",
   "version": "2.7.6"
  }
 },
 "nbformat": 4,
 "nbformat_minor": 5
}
