{
 "cells": [
  {
   "cell_type": "code",
   "execution_count": 12,
   "id": "initial_id",
   "metadata": {
    "collapsed": true,
    "ExecuteTime": {
     "end_time": "2023-10-24T06:48:32.136611Z",
     "start_time": "2023-10-24T06:48:32.125781Z"
    }
   },
   "outputs": [],
   "source": [
    "import os\n",
    "import sys\n",
    "import numpy as np\n",
    "\n",
    "sys.path.append(\"../detr\")\n",
    "from docai_util import image_replace, box_shrink\n",
    "import cv2\n",
    "import matplotlib.pyplot as plt\n",
    "from tqdm import tqdm\n",
    "import torch\n",
    "from scipy import ndimage\n",
    "import bisect\n",
    "from glob import glob"
   ]
  },
  {
   "cell_type": "code",
   "execution_count": 2,
   "outputs": [],
   "source": [
    "def denoise_molecular(image, dilate_degree):\n",
    "    \"\"\"\n",
    "    @param image: np.ndarray, [h, w, ...]\n",
    "    @param dilate_degree:\n",
    "    remove the noise point in an image\n",
    "    \"\"\"\n",
    "    # binarize\n",
    "    threshold = 250\n",
    "    bin_image = np.mean(image, axis=-1).astype(np.int32)\n",
    "    mask = bin_image > threshold\n",
    "    bin_image[mask] = 0\n",
    "    bin_image[~mask] = 1\n",
    "\n",
    "    h, w = bin_image.shape[:2]\n",
    "    kernel = np.ones(shape=(2, 2), dtype=np.int8)\n",
    "    bin_image = cv2.dilate(bin_image, dilate_degree, iterations=dilate_degree)\n",
    "\n",
    "    # calculate connected domain\n",
    "    ndimage.label(bin_image)\n",
    "\n",
    "\n",
    "def load_cells(k_remain):\n",
    "    # load cell map\n",
    "    cell_map = torch.load('./statistics/cell_shapes_pubtable.pth')\n",
    "    xml_paths, cells, xml_indices = [], [], []\n",
    "\n",
    "    for idx, (path, cell) in enumerate(cell_map.items()):\n",
    "        xml_paths.append(path)\n",
    "        cells.append(cell)\n",
    "        xml_indices.extend([idx] * len(cell))\n",
    "\n",
    "    xml_paths = np.array(xml_paths)\n",
    "    xml_indices = np.array(xml_indices)\n",
    "    cells = np.concatenate(cells, axis=0)\n",
    "    widths = cells[:, 2] - cells[:, 0]\n",
    "    heights = cells[:, 3] - cells[:, 1]\n",
    "\n",
    "    # sort the cells by their height\n",
    "    indices_height = np.argsort(heights, axis=0)\n",
    "    indices_area = np.argsort(heights * widths, axis=0)\n",
    "\n",
    "    # calculate the score of every cell\n",
    "    scores = np.zeros_like(indices_height)\n",
    "    scores[indices_height] += np.arange(len(indices_height))\n",
    "    scores[indices_area] += np.arange(len(indices_area))\n",
    "\n",
    "    # sort by score, and choose the highest k-cells\n",
    "    sorted_indices = scores.argsort()[::-1][:k_remain]\n",
    "\n",
    "    cells, xml_indices = cells[sorted_indices], xml_indices[sorted_indices]\n",
    "    del cell_map, widths, heights, indices_height, indices_area, scores, sorted_indices\n",
    "\n",
    "    return cells, xml_indices, xml_paths\n",
    "\n",
    "\n",
    "def load_molecular_images():\n",
    "    image_names = []\n",
    "    image_shapes = []\n",
    "\n",
    "    for key, val in torch.load('./statistics/molecular_image_shape.pth').items():\n",
    "        image_names.append(key)\n",
    "        image_shapes.append(val)\n",
    "\n",
    "    image_names = np.array(image_names)\n",
    "    image_shapes = np.stack(image_shapes, axis=0)\n",
    "\n",
    "    whr_ratios = image_shapes[:, 0] / image_shapes[:, 1]\n",
    "    whr_indices = np.argsort(whr_ratios)\n",
    "    return image_names[whr_indices], image_shapes[whr_indices], whr_ratios[whr_indices]"
   ],
   "metadata": {
    "collapsed": false,
    "ExecuteTime": {
     "end_time": "2023-10-13T08:16:48.171838Z",
     "start_time": "2023-10-13T08:16:48.160370Z"
    }
   },
   "id": "5067e37aa73417b6"
  },
  {
   "cell_type": "code",
   "execution_count": 3,
   "outputs": [],
   "source": [
    "table_image_root = '/home/suqi/dataset/pubtables-1m/PubTables-1M-Structure/images'\n",
    "mole_image_root = '/home/suqi/dataset/MolScribe/preprocessed'\n",
    "save_dir = '/home/suqi/dataset/synthesis_table_test'\n",
    "\n",
    "os.makedirs(save_dir, exist_ok=True)\n",
    "\n",
    "cells, xml_indices, xml_paths = load_cells(50000)\n",
    "mole_names, mole_shapes, mole_ratios = load_molecular_images()\n",
    "\n",
    "# 处理一张图里有多个选中cell的情况\n",
    "unique_xml = np.unique(xml_indices)\n",
    "xml_cell_table = {}\n",
    "for xml_idx in unique_xml:\n",
    "    xml_cell_table[xml_paths[xml_idx]] = cells[xml_indices == xml_idx]"
   ],
   "metadata": {
    "collapsed": false,
    "ExecuteTime": {
     "end_time": "2023-10-13T08:17:40.313332Z",
     "start_time": "2023-10-13T08:16:48.163689Z"
    }
   },
   "id": "b40b038e0db5f3c1"
  },
  {
   "cell_type": "code",
   "execution_count": 4,
   "outputs": [],
   "source": [
    "test_list = [\n",
    "    (\"PMC2706793_table_0.jpg\", 'train'),\n",
    "    (\"PMC2711041_table_0.jpg\", 'train'),\n",
    "    (\"PMC2713272_table_0.jpg\", 'train'),\n",
    "    (\"PMC2717052_table_0.jpg\", 'train'),\n",
    "    (\"PMC2719080_table_2.jpg\", 'train'),\n",
    "    (\"PMC2739837_table_0.jpg\", 'train'),\n",
    "    (\"PMC2745412_table_0.jpg\", 'val'),\n",
    "    (\"PMC2753557_table_1.jpg\", 'val'),\n",
    "    (\"PMC2756279_table_1.jpg\", 'test'),\n",
    "    (\"PMC2758861_table_0.jpg\", 'train'),\n",
    "    (\"PMC2768712_table_0.jpg\", 'train'),\n",
    "    (\"PMC2795741_table_1.jpg\", 'train'),\n",
    "    (\"PMC2796493_table_0.jpg\", 'train'),\n",
    "    (\"PMC2798617_table_0.jpg\", 'train')\n",
    "]\n",
    "test_list = [f'/home/suqi/dataset/pubtables-1m/PubTables-1M-Structure/{path}/' + name.replace('.jpg', '.xml') for\n",
    "             name, path in test_list]\n",
    "xml_cell_table_part = {key: xml_cell_table[key] for key in test_list}"
   ],
   "metadata": {
    "collapsed": false,
    "ExecuteTime": {
     "end_time": "2023-10-13T08:17:40.322595Z",
     "start_time": "2023-10-13T08:17:40.318842Z"
    }
   },
   "id": "919d52b5e722b818"
  },
  {
   "cell_type": "code",
   "execution_count": 6,
   "outputs": [
    {
     "name": "stderr",
     "output_type": "stream",
     "text": [
      "Generating: 100%|██████████| 14/14 [00:03<00:00,  4.44it/s]\n"
     ]
    }
   ],
   "source": [
    "for xml_path, cells in tqdm(xml_cell_table_part.items(), desc='Generating: '):\n",
    "    # load table image\n",
    "    table_base_name = xml_path.split('/')[-1].split('.xml')[0]\n",
    "    table_image = cv2.imread(os.path.join(table_image_root, table_base_name + '.jpg'))\n",
    "    table_image_correct = table_image.copy()\n",
    "    \n",
    "    for bbox in cells:\n",
    "        whr = (bbox[2] - bbox[0]) / (bbox[3] - bbox[1])\n",
    "        # 找出与当前cell长宽比最接近的分子图片，在其附近随机选择\n",
    "        idx = bisect.bisect(mole_ratios, whr)\n",
    "        idx = np.random.randint(max(idx - 20, 0), min(idx + 20, len(mole_ratios)))\n",
    "        mole_image = cv2.imread(os.path.join(mole_image_root, str(mole_names[idx])))\n",
    "        mole_image = cv2.cvtColor(mole_image, cv2.COLOR_BGR2RGB)\n",
    "        \n",
    "        bbox_correct = box_shrink(table_image_correct, bbox, 0.95)\n",
    "        table_image = image_replace(table_image, bbox, mole_image, scale_shrink=0.8)\n",
    "        table_image_correct = image_replace(table_image_correct, bbox_correct, mole_image, scale_shrink=0.8)\n",
    "\n",
    "    plt.imsave('./data_debug/line/' + f'{table_base_name}_original.png', table_image)\n",
    "    plt.imsave('./data_debug/line/' + f'{table_base_name}_corrected.png', table_image_correct)\n",
    "    "
   ],
   "metadata": {
    "collapsed": false,
    "ExecuteTime": {
     "end_time": "2023-10-13T08:31:53.590656Z",
     "start_time": "2023-10-13T08:31:50.428972Z"
    }
   },
   "id": "50856ee6a4ba83f"
  },
  {
   "cell_type": "code",
   "execution_count": 16,
   "outputs": [
    {
     "data": {
      "text/plain": "array([1, 3, 2])"
     },
     "execution_count": 16,
     "metadata": {},
     "output_type": "execute_result"
    }
   ],
   "source": [
    "score = np.array([1000, 5, 1, 1, 1])\n",
    "score = score / score.sum()\n",
    "np.random.choice([1, 2, 3, 4, 5], 3, replace=False, p=score)"
   ],
   "metadata": {
    "collapsed": false,
    "ExecuteTime": {
     "end_time": "2023-10-13T09:41:46.283314Z",
     "start_time": "2023-10-13T09:41:46.277100Z"
    }
   },
   "id": "7f440f32a9b375e5"
  },
  {
   "cell_type": "code",
   "execution_count": 3,
   "outputs": [
    {
     "name": "stdout",
     "output_type": "stream",
     "text": [
      "73229\n"
     ]
    }
   ],
   "source": [
    "table_root = '/home/suqi/dataset/synthesis_table_new'\n",
    "sort_by_mean = sorted(os.listdir(table_root), key=lambda x: x.split('_')[0])\n",
    "sort_by_max = sorted(os.listdir(table_root), key=lambda x: x.split('_')[1])\n",
    "\n",
    "mean_save_dir = '/home/suqi/dataset/temp/syn_table/mean'\n",
    "max_save_dir = '/home/suqi/dataset/temp/syn_table/max'\n",
    "os.makedirs(mean_save_dir, exist_ok=True)\n",
    "os.makedirs(max_save_dir, exist_ok=True)\n",
    "\n",
    "print(len(sort_by_max))"
   ],
   "metadata": {
    "collapsed": false,
    "ExecuteTime": {
     "end_time": "2023-10-16T01:40:17.653649Z",
     "start_time": "2023-10-16T01:40:17.477031Z"
    }
   },
   "id": "2eeda54fb21d0c31"
  },
  {
   "cell_type": "code",
   "execution_count": 4,
   "outputs": [],
   "source": [
    "save_name = ['high', 'mid', 'low']\n",
    "ranges = [(73229 - 100, 73229), (30000, 30100), (0, 100)]\n",
    "for i in range(3):\n",
    "    for name in sort_by_mean[ranges[i][0]: ranges[i][1]]:\n",
    "        os.makedirs(os.path.join(mean_save_dir, save_name[i]), exist_ok=True)\n",
    "        os.link(os.path.join(table_root, name), os.path.join(mean_save_dir, save_name[i], name))\n",
    "\n",
    "for i in range(3):\n",
    "    for name in sort_by_max[ranges[i][0]: ranges[i][1]]:\n",
    "        os.makedirs(os.path.join(max_save_dir, save_name[i]), exist_ok=True)\n",
    "        os.link(os.path.join(table_root, name), os.path.join(max_save_dir, save_name[i], name))"
   ],
   "metadata": {
    "collapsed": false,
    "ExecuteTime": {
     "end_time": "2023-10-16T01:46:09.311002Z",
     "start_time": "2023-10-16T01:46:09.278144Z"
    }
   },
   "id": "6ea2d0e0090f4489"
  },
  {
   "cell_type": "code",
   "execution_count": 13,
   "outputs": [],
   "source": [
    "source_root = '/home/suqi/dataset/Pub_Syn_Union'\n",
    "target_root = '/home/suqi/dataset/Pub_Fin_Syn_Union'\n",
    "\n",
    "fintable = '/home/suqi/dataset/synthesis_fintable'\n",
    "xml_root = '/home/suqi/dataset/FinTabNet.c/FinTabNet.c-Structure'\n",
    "\n",
    "# link image and write filelist\n",
    "with open(os.path.join(target_root, 'train_filelist.txt'), 'a') as f:\n",
    "    for name in sorted(os.listdir(fintable)):\n",
    "        if '_COL_' in name:\n",
    "            base_name = name.split('_COL_')[0]\n",
    "        else:\n",
    "            base_name = name.split('_CELL_')[0]\n",
    "        link_name = name.split('.jpg')[0] + '.xml'\n",
    "        \n",
    "        xml_source = glob(os.path.join(xml_root, '**', base_name + '.xml'))\n",
    "        assert len(xml_source) == 1\n",
    "        os.link(xml_source[0], os.path.join(target_root, 'train', link_name))\n",
    "        f.write(f'train/{link_name}\\n')\n"
   ],
   "metadata": {
    "collapsed": false,
    "ExecuteTime": {
     "end_time": "2023-10-24T06:48:39.778169Z",
     "start_time": "2023-10-24T06:48:36.942791Z"
    }
   },
   "id": "51371ca2bc40c6f3"
  },
  {
   "cell_type": "code",
   "execution_count": 7,
   "outputs": [],
   "source": [
    "import torch\n",
    "import os\n",
    "\n",
    "model_root = '/home/suqi/model/TATR/TATR-v1.1-All-msft.pth'\n",
    "target_root = \"/home/suqi/model/TATR/finetune/20231027181701\"\n",
    "\n",
    "checkpoint = torch.load(model_root, map_location='cpu')\n",
    "checkpoint = {'model_state_dict': checkpoint}\n",
    "torch.save(checkpoint, os.path.join(target_root, 'model.pth'))"
   ],
   "metadata": {
    "collapsed": false,
    "ExecuteTime": {
     "end_time": "2023-10-27T11:48:47.996622Z",
     "start_time": "2023-10-27T11:48:47.497196Z"
    }
   },
   "id": "968413f26d6621b3"
  },
  {
   "cell_type": "code",
   "execution_count": 3,
   "outputs": [
    {
     "name": "stdout",
     "output_type": "stream",
     "text": [
      "True\n"
     ]
    }
   ],
   "source": [],
   "metadata": {
    "collapsed": false,
    "ExecuteTime": {
     "end_time": "2023-10-27T11:47:06.553423Z",
     "start_time": "2023-10-27T11:47:06.549598Z"
    }
   },
   "id": "c501ada00a0a9d06"
  }
 ],
 "metadata": {
  "kernelspec": {
   "display_name": "Python 3",
   "language": "python",
   "name": "python3"
  },
  "language_info": {
   "codemirror_mode": {
    "name": "ipython",
    "version": 2
   },
   "file_extension": ".py",
   "mimetype": "text/x-python",
   "name": "python",
   "nbconvert_exporter": "python",
   "pygments_lexer": "ipython2",
   "version": "2.7.6"
  }
 },
 "nbformat": 4,
 "nbformat_minor": 5
}
