{
 "cells": [
  {
   "cell_type": "markdown",
   "source": [
    "## 从pdf文件中提取表格并进行分割"
   ],
   "metadata": {
    "collapsed": false
   },
   "id": "9b8f56e7dbee8422"
  },
  {
   "cell_type": "code",
   "execution_count": 1,
   "outputs": [],
   "source": [
    "import warnings\n",
    "warnings.filterwarnings('ignore')\n",
    "from docai_table.model.layout_model import LayoutModel, LayoutType\n",
    "from docai_table.util.pdf_helper import get_pdf_page_images\n",
    "from docai_table.util.visualize_util import visualize_contents\n",
    "from collections import defaultdict\n",
    "from pathlib import Path\n",
    "import os\n",
    "import pdb\n",
    "import numpy as np\n",
    "from tqdm import tqdm\n",
    "from PIL import Image\n",
    "import torch\n",
    "import matplotlib.pyplot as plt\n",
    "from scipy import ndimage\n",
    "import cv2\n",
    "import random\n",
    "from glob import glob"
   ],
   "metadata": {
    "collapsed": false,
    "ExecuteTime": {
     "end_time": "2023-10-19T16:10:27.624669Z",
     "start_time": "2023-10-19T16:10:23.478987Z"
    }
   },
   "id": "683ce45e8cbeaf9"
  },
  {
   "cell_type": "markdown",
   "source": [
    "## 测试Layout模型"
   ],
   "metadata": {
    "collapsed": false
   },
   "id": "5f3b0e14e6f4fa24"
  },
  {
   "cell_type": "code",
   "execution_count": null,
   "outputs": [],
   "source": [
    "pdf_root = '/home/suqi/dataset/pdf_data'\n",
    "save_root = '/home/suqi/dataset/pdf_images'\n",
    "os.makedirs(save_root, exist_ok=True)\n",
    "pdf_paths = sorted(glob(os.path.join(pdf_root, '**', \"*.pdf\"), recursive=True))"
   ],
   "metadata": {
    "collapsed": false
   },
   "id": "initial_id"
  },
  {
   "cell_type": "code",
   "execution_count": null,
   "outputs": [],
   "source": [
    "layout_model = LayoutModel()"
   ],
   "metadata": {
    "collapsed": false
   },
   "id": "a6fc03daa75868fb"
  },
  {
   "cell_type": "code",
   "execution_count": null,
   "outputs": [],
   "source": [
    "table_count = 0\n",
    "# torch.cuda.empty_cache()\n",
    "for pdf_path in tqdm(pdf_paths[774:]):\n",
    "    images = get_pdf_page_images(pdf_path)\n",
    "    pdf_name = pdf_path.split('/')[-1].split('.pdf')[0]\n",
    "    layout_results = layout_model.predict(images)\n",
    "    for idx, layout_res in enumerate(layout_results):\n",
    "        for j, layout in enumerate(layout_res.layouts):\n",
    "            if layout.type == LayoutType.Table:\n",
    "                table_count += 1\n",
    "                table_crop = images[idx].crop(layout.bbox)\n",
    "                table_crop.save(os.path.join(save_root, f\"{pdf_name}_PAGE_{str(idx).rjust(3, '0')}_NO_{str(j).rjust(3, '0')}.jpg\"))"
   ],
   "metadata": {
    "collapsed": false
   },
   "id": "2f372956da0cecca"
  },
  {
   "cell_type": "code",
   "execution_count": null,
   "outputs": [],
   "source": [
    "page_image = get_pdf_page_images(\"../data/wu2021.pdf\", page_number=7)\n",
    "layout_model = LayoutModel()\n",
    "layout_result = layout_model.predict(page_image)\n",
    "display(visualize_contents(page_image, layout_result.get_visualize_contents()))\n",
    "\n",
    "table_image = page_image.crop(layout_result.layouts[8].bbox)"
   ],
   "metadata": {
    "collapsed": false
   },
   "id": "5c85410c1bb5e0d6"
  },
  {
   "cell_type": "markdown",
   "source": [
    "## 分子图像处理，将多余的白边去掉"
   ],
   "metadata": {
    "collapsed": false
   },
   "id": "2d79fbcd951fb057"
  },
  {
   "cell_type": "code",
   "execution_count": null,
   "outputs": [],
   "source": [
    "# image = np.array(Image.open(\"/home/suqi/dataset/MolScribe/Supple/indigo_validation_set_examples/images/700.png\"))\n",
    "# if len(image.shape) == 3:\n",
    "#     image = image.mean(axis=-1)\n",
    "\n",
    "# print(image.shape)\n",
    "# print(image.max())\n",
    "# print(image.min())\n",
    "\n",
    "# plt.imshow(image, cmap='gray')\n",
    "\n",
    "def cut_white_border(image: np.ndarray, threshold=250) -> np.ndarray:\n",
    "    \"\"\"\n",
    "    image: binary image, (H x W)\n",
    "    \"\"\"\n",
    "    x_range, y_range = np.where(image < threshold)\n",
    "    x_min, y_min = map(lambda x: np.min(x), (x_range, y_range))\n",
    "    x_max, y_max = map(lambda x: np.max(x), (x_range, y_range))\n",
    "    return image[x_min: x_max + 1, y_min: y_max + 1]\n",
    "\n",
    "# image = cut_white_border(image)\n",
    "# plt.imshow(image, cmap='gray')\n",
    "# print(image.shape)\n"
   ],
   "metadata": {
    "collapsed": false
   },
   "id": "7200b1b5211d9876"
  },
  {
   "cell_type": "code",
   "execution_count": null,
   "outputs": [],
   "source": [
    "\n",
    "data_root = '/home/suqi/dataset/MolScribe/'\n",
    "target_folder = 'preprocessed'\n",
    "os.makedirs(os.path.join(data_root, target_folder), exist_ok=True)\n",
    "\n",
    "patterns = [\n",
    "    # '.png', '.jpg',\n",
    "    '.TIF',\n",
    "    # '.tiff', '.bmp'\n",
    "]\n",
    "\n",
    "# png_folders = [\n",
    "#     'indigo_validation_set_examples/images',\n",
    "#     'perturb/CLEF_pertubations/*',\n",
    "#     'perturb/STAKER',\n",
    "#     'perturb/UOB_pertubations/*',\n",
    "#     'perturb/USPTO_pertubations',\n",
    "#     'synthetic/chemdraw',\n",
    "#     'synthetic/indigo',\n",
    "#     'uspto_validation_set_examples/images',\n",
    "#     'valko_testset_results/image_results'\n",
    "# ]\n",
    "\n",
    "dataset_counter = defaultdict(lambda: 0)\n",
    "data_dict = {}\n",
    "for pattern in patterns:\n",
    "    image_list = sorted(Path(data_root).rglob('*' + pattern))\n",
    "    print(len(image_list))\n",
    "    for image_path in tqdm(image_list, desc=f'Now: {pattern}'):\n",
    "        try:\n",
    "            dataset = str(image_path).strip().split('/')[5]\n",
    "            data_idx = dataset_counter[dataset]\n",
    "            dataset_counter[dataset] = data_idx + 1\n",
    "\n",
    "            save_name = dataset + '_' + str(data_idx).rjust(7, '0') + '.png'\n",
    "            data_dict[save_name] = image_path\n",
    "            if os.path.exists(os.path.join(data_root, target_folder, save_name)):\n",
    "                continue\n",
    "\n",
    "            image = np.array(Image.open(os.path.join(data_root, image_path)))\n",
    "            if len(image.shape) == 3:\n",
    "                image = image.mean(axis=-1)\n",
    "\n",
    "            if pattern == '.tiff' or pattern == '.bmp':\n",
    "                width = image.shape[1]\n",
    "                image = image[:, width * 3 // 4:]\n",
    "\n",
    "            if image.max() <= 1.1:\n",
    "                threshold = 250 / 255\n",
    "                image = cut_white_border(image.astype(np.float16), threshold)\n",
    "                image = (image * 255).astype(np.uint8)\n",
    "            else:\n",
    "                threshold = 250\n",
    "                image = cut_white_border(image.astype(np.uint8), threshold)\n",
    "\n",
    "            image = np.tile(image[..., None], 3)\n",
    "            Image.fromarray(image).save(os.path.join(data_root, target_folder, save_name))\n",
    "        except Exception as e:\n",
    "            print(f'Exception at: {image_path}')\n",
    "            pdb.set_trace()\n"
   ],
   "metadata": {
    "collapsed": false
   },
   "id": "82c06dbeefbc774"
  },
  {
   "cell_type": "markdown",
   "source": [
    "## 随机选择图形进行查看"
   ],
   "metadata": {
    "collapsed": false
   },
   "id": "3ffd5a81f6e356eb"
  },
  {
   "cell_type": "code",
   "execution_count": null,
   "outputs": [],
   "source": [
    "data_root = '/home/suqi/dataset/MolScribe/'\n",
    "target_folder = 'preprocessed'\n",
    "\n",
    "img_prefix = [img_name[:5] for img_name in os.listdir(os.path.join(data_root, target_folder))]"
   ],
   "metadata": {
    "collapsed": false
   },
   "id": "69ac9a35173fc10f"
  },
  {
   "cell_type": "code",
   "execution_count": null,
   "outputs": [],
   "source": [
    "img_prefix = set(img_prefix)\n",
    "print(len(img_prefix))\n",
    "print(img_prefix)"
   ],
   "metadata": {
    "collapsed": false
   },
   "id": "8c26d23cbd766069"
  },
  {
   "cell_type": "code",
   "execution_count": null,
   "outputs": [],
   "source": [
    "for prefix in img_prefix:\n",
    "    paths = list(sorted(Path(os.path.join(data_root, target_folder)).glob(f\"{prefix}*.png\")))\n",
    "    np.random.shuffle(paths)\n",
    "    paths = paths[:20]\n",
    "    for path in paths:\n",
    "        os.system(f'cp {path} /home/suqi/dataset/MolScribe/temp')"
   ],
   "metadata": {
    "collapsed": false
   },
   "id": "19eab8a89392a87e"
  },
  {
   "cell_type": "markdown",
   "source": [
    "## 统计图像的平均大小"
   ],
   "metadata": {
    "collapsed": false
   },
   "id": "84aa8b33f6f8c2e6"
  },
  {
   "cell_type": "code",
   "execution_count": null,
   "outputs": [],
   "source": [
    "image_root = os.path.join(data_root, target_folder)\n",
    "image_shapes = {}\n",
    "\n",
    "for image_name in tqdm(sorted(os.listdir(image_root))):\n",
    "    image_shapes[image_name] = list(Image.open(os.path.join(image_root, image_name)).size)"
   ],
   "metadata": {
    "collapsed": false
   },
   "id": "757017cba375891d"
  },
  {
   "cell_type": "code",
   "execution_count": null,
   "outputs": [],
   "source": [
    "torch.save(image_shapes, './statistics/molecular_image_shape.pth')\n",
    "\n",
    "# image_names = []\n",
    "# image_shapes = []\n",
    "# \n",
    "# for key, val in torch.load('./statistics/molecular_image_shape.pth').items():\n",
    "#     image_names.append(key)\n",
    "#     image_shapes.append(val)\n",
    "# \n",
    "# image_shapes = np.stack(image_shapes, axis=0)\n"
   ],
   "metadata": {
    "collapsed": false
   },
   "id": "4a565664dc796615"
  },
  {
   "cell_type": "code",
   "execution_count": null,
   "outputs": [],
   "source": [
    "width_height_ratio = image_shapes[:, 0] / image_shapes[:, 1]\n",
    "plt.hist(width_height_ratio, np.linspace(0, 5, 500))\n",
    "plt.show()"
   ],
   "metadata": {
    "collapsed": false
   },
   "id": "526488e8f1b732fc"
  },
  {
   "cell_type": "markdown",
   "source": [
    "## 处理分子最大连通域"
   ],
   "metadata": {
    "collapsed": false
   },
   "id": "c34be51ac7fac4c3"
  },
  {
   "cell_type": "code",
   "execution_count": null,
   "outputs": [],
   "source": [
    "def denoise_molecular(image, dilate_degree=15):\n",
    "    \"\"\"\n",
    "    @param image: np.ndarray, [h, w, ...]\n",
    "    @param dilate_degree:\n",
    "    remove the noise point in an image\n",
    "    \"\"\"\n",
    "    fill_value = image.max()\n",
    "    assert image.dtype == np.uint8 or fill_value > 2\n",
    "\n",
    "    # binarize\n",
    "    threshold = 250\n",
    "    bin_image = np.mean(image, axis=-1).astype(np.uint8)\n",
    "    mask = bin_image > threshold\n",
    "    bin_image[mask] = 0\n",
    "    bin_image[~mask] = 1\n",
    "\n",
    "    kernel = np.ones(shape=(2, 2), dtype=np.int8)\n",
    "    dilated_bin_image = cv2.dilate(bin_image, kernel, dilate_degree, iterations=dilate_degree).astype(np.uint8)\n",
    "    # calculate connected domain, remove too small domain\n",
    "    size_threshold = 0.5\n",
    "\n",
    "    label, n_dom = ndimage.label(dilated_bin_image)\n",
    "    dom_size = np.bincount(label.reshape(-1))\n",
    "    max_dom = np.max(dom_size[1:])\n",
    "    erase_dom = np.arange(0, n_dom + 1)[dom_size < int(max_dom * size_threshold)]\n",
    "    dilated_bin_image[np.isin(label, erase_dom)] = 0\n",
    "\n",
    "    # mask and cut\n",
    "    x_range, y_range = np.where(dilated_bin_image == 0)\n",
    "    image[x_range, y_range, :] = fill_value\n",
    "    bin_image[x_range, y_range] = 0\n",
    "    del x_range, y_range\n",
    "    x_range, y_range = np.where(bin_image == 1)\n",
    "    x_min, y_min = map(lambda x: x.min(), (x_range, y_range))\n",
    "    x_max, y_max = map(lambda x: x.max(), (x_range, y_range))\n",
    "\n",
    "    return image[x_min: x_max + 1, y_min: y_max + 1]"
   ],
   "metadata": {
    "collapsed": false
   },
   "id": "45504bea69f8668d"
  },
  {
   "cell_type": "code",
   "execution_count": null,
   "outputs": [],
   "source": [
    "mole_root = '/home/suqi/dataset/MolScribe/preprocessed'\n",
    "# test_sample = [\n",
    "#     'uspto_mol_0000000.png',\n",
    "#     'uspto_mol_0000003.png',\n",
    "#     'uspto_mol_0000004.png',\n",
    "#     'uspto_mol_0000007.png',\n",
    "#     'uspto_mol_0040757.png',\n",
    "#     'uspto_mol_0099345.png',\n",
    "#     'uspto_mol_0106860.png',\n",
    "#     'valko_testset_results_0000004.png',\n",
    "#     'valko_testset_results_0000005.png',\n",
    "#     'valko_testset_results_0000008.png',\n",
    "#     'valko_testset_results_0000009.png',\n",
    "#     'valko_testset_results_0000393.png'\n",
    "# ]\n",
    "# \n",
    "# for i in range(len(test_sample)):\n",
    "#     mole_image = cv2.cvtColor(cv2.imread(os.path.join(mole_root, test_sample[i])), cv2.COLOR_BGR2RGB)\n",
    "# \n",
    "#     plt.imshow(mole_image)\n",
    "#     plt.show()\n",
    "# \n",
    "#     mole_image = denoise_molecular(mole_image, 15)\n",
    "#     plt.imshow(mole_image, cmap='gray')\n",
    "#     plt.show()"
   ],
   "metadata": {
    "collapsed": false
   },
   "id": "36cfeba5e222b744"
  },
  {
   "cell_type": "code",
   "execution_count": null,
   "outputs": [],
   "source": [
    "new_mole_root = '/home/suqi/dataset/MolScribe/preprocessed'\n",
    "os.makedirs(new_mole_root, exist_ok=True)\n",
    "\n",
    "for name in tqdm(sorted(os.listdir(mole_root))):\n",
    "    mole_image = cv2.cvtColor(cv2.imread(os.path.join(mole_root, name)), cv2.COLOR_RGB2BGR)\n",
    "    mole_image = denoise_molecular(mole_image, 15)\n",
    "    cv2.imwrite(os.path.join(new_mole_root, name), mole_image)\n"
   ],
   "metadata": {
    "collapsed": false
   },
   "id": "df3a8457a3038c39"
  },
  {
   "cell_type": "markdown",
   "source": [
    "## 数据集结构化"
   ],
   "metadata": {
    "collapsed": false
   },
   "id": "240c3595b92c3200"
  },
  {
   "cell_type": "code",
   "execution_count": 3,
   "outputs": [
    {
     "name": "stdout",
     "output_type": "stream",
     "text": [
      "407259 362008 45251\n"
     ]
    }
   ],
   "source": [
    "pub_root = '/home/suqi/dataset/pubtables-1m/PubTables-1M-Structure'\n",
    "syn_root = '/home/suqi/dataset/synthesis_table'\n",
    "target_root = '/home/suqi/dataset/Pub_Syn_Union'\n",
    "\n",
    "random.seed(1327)\n",
    "np.random.seed(1327)\n",
    "\n",
    "syn_list = list(sorted(os.listdir(os.path.join(syn_root, 'images'))))\n",
    "np.random.shuffle(syn_list)\n",
    "syn_train_num = int(8 * len(syn_list) / 9)\n",
    "syn_train_list, syn_val_list = syn_list[: syn_train_num], syn_list[syn_train_num:]\n",
    "syn_train_list, syn_val_list = map(\n",
    "    lambda x: [name.split('.')[0] for name in x],\n",
    "    (syn_train_list, syn_val_list)\n",
    ")"
   ],
   "metadata": {
    "collapsed": false,
    "ExecuteTime": {
     "end_time": "2023-10-19T16:11:32.524731Z",
     "start_time": "2023-10-19T16:11:31.952199Z"
    }
   },
   "id": "48751cc5705699f1"
  },
  {
   "cell_type": "code",
   "execution_count": 4,
   "outputs": [
    {
     "name": "stdout",
     "output_type": "stream",
     "text": [
      "362008 45251\n"
     ]
    }
   ],
   "source": [
    "pub_train_list = list(sorted(os.listdir(os.path.join(pub_root, 'train'))))\n",
    "pub_val_list = list(sorted(os.listdir(os.path.join(pub_root, 'val'))))\n",
    "\n",
    "np.random.shuffle(pub_train_list)\n",
    "np.random.shuffle(pub_val_list)\n",
    "\n",
    "pub_train_list = pub_train_list[:len(syn_train_list)]\n",
    "pub_val_list = pub_val_list[:len(syn_val_list)]\n",
    "\n",
    "pub_train_list, pub_val_list = map(\n",
    "    lambda x: [name.split('.')[0] for name in x],\n",
    "    (pub_train_list, pub_val_list)\n",
    ")"
   ],
   "metadata": {
    "collapsed": false,
    "ExecuteTime": {
     "end_time": "2023-10-19T16:12:24.451617Z",
     "start_time": "2023-10-19T16:12:20.564333Z"
    }
   },
   "id": "2da8af18c3321c84"
  },
  {
   "cell_type": "code",
   "execution_count": 5,
   "outputs": [],
   "source": [
    "os.makedirs(os.path.join(target_root, 'images'), exist_ok=True)\n",
    "os.makedirs(os.path.join(target_root, 'train'), exist_ok=True)\n",
    "os.makedirs(os.path.join(target_root, 'val'), exist_ok=True)"
   ],
   "metadata": {
    "collapsed": false,
    "ExecuteTime": {
     "end_time": "2023-10-19T16:12:30.086789Z",
     "start_time": "2023-10-19T16:12:30.085267Z"
    }
   },
   "id": "7579ed38b57343fa"
  },
  {
   "cell_type": "code",
   "execution_count": 6,
   "outputs": [],
   "source": [
    "# link images\n",
    "for name in syn_train_list + syn_val_list:\n",
    "    os.link(os.path.join(syn_root, 'images', name + '.jpg'), os.path.join(target_root, 'images', name + '.jpg'))\n",
    "\n",
    "for name in pub_train_list + pub_val_list:\n",
    "    os.link(os.path.join(pub_root, 'images', name + '.jpg'), os.path.join(target_root, 'images', name + '.jpg'))"
   ],
   "metadata": {
    "collapsed": false,
    "ExecuteTime": {
     "end_time": "2023-10-19T16:15:21.693659Z",
     "start_time": "2023-10-19T16:12:32.611343Z"
    }
   },
   "id": "3447741b9fdacf1d"
  },
  {
   "cell_type": "code",
   "execution_count": 7,
   "outputs": [],
   "source": [
    "# link xml files\n",
    "for name, tp in zip(syn_train_list + syn_val_list, (['train'] * len(syn_train_list)) + (['val'] * len(syn_val_list))):\n",
    "    prefix = '_'.join(name.split('_')[:2])\n",
    "    base_name = '_'.join(name.split('_')[2:])\n",
    "    xml_path = glob(os.path.join(pub_root, 'train', base_name + '.xml')) + \\\n",
    "               glob(os.path.join(pub_root, 'test', base_name + '.xml')) + \\\n",
    "               glob(os.path.join(pub_root, 'val', base_name + '.xml'))\n",
    "    assert len(xml_path) == 1\n",
    "    os.link(os.path.join(xml_path[0]), os.path.join(target_root, tp, name + '.xml'))\n",
    "\n",
    "for name, tp in zip(pub_train_list + pub_val_list, (['train'] * len(pub_train_list)) + (['val'] * len(pub_val_list))):\n",
    "    xml_path = glob(os.path.join(pub_root, tp, name + '.xml'))\n",
    "    assert len(xml_path) == 1\n",
    "    os.link(os.path.join(xml_path[0]), os.path.join(target_root, tp, name + '.xml'))"
   ],
   "metadata": {
    "collapsed": false,
    "ExecuteTime": {
     "end_time": "2023-10-19T16:19:21.310956Z",
     "start_time": "2023-10-19T16:16:32.108063Z"
    }
   },
   "id": "122d4c543582139d"
  },
  {
   "cell_type": "code",
   "execution_count": 8,
   "outputs": [],
   "source": [
    "# generate txt file\n",
    "with open(os.path.join(target_root, 'images_filelist.txt'), 'w') as f:\n",
    "    for image in sorted(os.listdir(os.path.join(target_root, 'images'))):\n",
    "        f.write('images/' + image + '\\n')\n",
    "\n",
    "with open(os.path.join(target_root, 'train_filelist.txt'), 'w') as f:\n",
    "    for xml in sorted(os.listdir(os.path.join(target_root, 'train'))):\n",
    "        f.write('train/' + xml + '\\n')\n",
    "        \n",
    "with open(os.path.join(target_root, 'val_filelist.txt'), 'w') as f:\n",
    "    for xml in sorted(os.listdir(os.path.join(target_root, 'val'))):\n",
    "        f.write('val/' + xml + '\\n')"
   ],
   "metadata": {
    "collapsed": false,
    "ExecuteTime": {
     "end_time": "2023-10-19T16:36:59.187607Z",
     "start_time": "2023-10-19T16:36:56.933427Z"
    }
   },
   "id": "84447af82b87a7c7"
  },
  {
   "cell_type": "markdown",
   "source": [
    "## 试加载模型"
   ],
   "metadata": {
    "collapsed": false
   },
   "id": "49c2987fef901d6b"
  },
  {
   "cell_type": "code",
   "execution_count": null,
   "outputs": [],
   "source": [
    "import sys\n",
    "\n",
    "def print(*args, **kwargs):\n",
    "    sep = kwargs.get('sep', ' ')\n",
    "    end = kwargs.get('end', '\\n')\n",
    "    file = kwargs.get('file', sys.stdout)\n",
    "    text = sep.join(args) + end\n",
    "    file.write(text)"
   ],
   "metadata": {
    "collapsed": false
   },
   "id": "ba08deceb510aae"
  },
  {
   "cell_type": "code",
   "execution_count": null,
   "outputs": [],
   "source": [
    "d = {1: 2, 3: 4}\n",
    "print(d)"
   ],
   "metadata": {
    "collapsed": false
   },
   "id": "a4f16ce0a4353176"
  },
  {
   "cell_type": "code",
   "execution_count": null,
   "outputs": [],
   "source": [],
   "metadata": {
    "collapsed": false
   },
   "id": "a5ec278b28aeeb0e"
  }
 ],
 "metadata": {
  "kernelspec": {
   "display_name": "Python 3",
   "language": "python",
   "name": "python3"
  },
  "language_info": {
   "codemirror_mode": {
    "name": "ipython",
    "version": 2
   },
   "file_extension": ".py",
   "mimetype": "text/x-python",
   "name": "python",
   "nbconvert_exporter": "python",
   "pygments_lexer": "ipython2",
   "version": "2.7.6"
  }
 },
 "nbformat": 4,
 "nbformat_minor": 5
}
